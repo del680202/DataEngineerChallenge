{
 "cells": [
  {
   "cell_type": "markdown",
   "metadata": {},
   "source": [
    "\n",
    "# Predict the expected load (requests/second) in the next minute\n",
    "\n",
    "I define this problem as a ` tend forecasting` problem. I will use tensorflow/keras to build a predition model to solve it.\n",
    "\n",
    "### Input\n",
    "Time series data\n",
    "Format: [t_1,t_2....t_n]\n",
    "\n",
    "### Output\n",
    "Prediction value for `t_n+1`"
   ]
  },
  {
   "cell_type": "markdown",
   "metadata": {},
   "source": [
    "## Install library"
   ]
  },
  {
   "cell_type": "code",
   "execution_count": null,
   "metadata": {},
   "outputs": [],
   "source": [
    "! pip install tensorflow --user"
   ]
  },
  {
   "cell_type": "markdown",
   "metadata": {},
   "source": [
    "## Prepare dataset\n",
    "\n",
    "Prepare trend data as below\n",
    "List of (yyyy-MM-dd'T'HH:mm, cnt)\n"
   ]
  },
  {
   "cell_type": "code",
   "execution_count": 3,
   "metadata": {},
   "outputs": [],
   "source": [
    "data_path = \"../../data/2015_07_22_mktplace_shop_web_log_sample.log\"\n",
    "data_dict = {}\n",
    "with open(data_path) as f:\n",
    "    for line in f:\n",
    "        time_key = line[:16]\n",
    "        cnt = data_dict.get(time_key, 0) + 1\n",
    "        data_dict[time_key] = cnt\n",
    "data_tuple = [(k,v) for k, v in data_dict.items()]\n",
    "sorted_data = sorted(data_tuple, key=lambda x: x[0])"
   ]
  },
  {
   "cell_type": "code",
   "execution_count": 5,
   "metadata": {},
   "outputs": [
    {
     "data": {
      "text/plain": [
       "<matplotlib.axes._subplots.AxesSubplot at 0x12242ea58>"
      ]
     },
     "execution_count": 5,
     "metadata": {},
     "output_type": "execute_result"
    },
    {
     "data": {
      "image/png": "[encoded data removed]",
      "text/plain": [
       "<Figure size 432x288 with 1 Axes>"
      ]
     },
     "metadata": {
      "needs_background": "light"
     },
     "output_type": "display_data"
    }
   ],
   "source": [
    "import pandas as pd\n",
    "\n",
    "df = pd.DataFrame(sorted_data, columns=[\"date\", \"cnt\"])\n",
    "df['date'] = pd.to_datetime(df['date'], format='%Y-%m-%dT%H:%M')\n",
    "df[[\"cnt\"]].plot()"
   ]
  },
  {
   "cell_type": "markdown",
   "metadata": {},
   "source": [
    "It looks like data is not completed. But we don't handle it in this phase."
   ]
  },
  {
   "cell_type": "code",
   "execution_count": 45,
   "metadata": {},
   "outputs": [],
   "source": [
    "import numpy as np\n",
    "import math\n",
    "import random\n",
    "import tensorflow\n",
    "%matplotlib inline\n",
    "random.seed(0)\n",
    "random_factor = 0.05\n",
    "steps_per_cycle = 30\n",
    "number_of_cycles = 30\n"
   ]
  },
  {
   "cell_type": "markdown",
   "metadata": {},
   "source": [
    "## Prepare training data and test data"
   ]
  },
  {
   "cell_type": "code",
   "execution_count": 48,
   "metadata": {},
   "outputs": [
    {
     "name": "stderr",
     "output_type": "stream",
     "text": [
      "/Users/chintzu-lin/anaconda3/lib/python3.7/site-packages/ipykernel_launcher.py:7: FutureWarning: Method .as_matrix will be removed in a future version. Use .values instead.\n",
      "  import sys\n",
      "/Users/chintzu-lin/anaconda3/lib/python3.7/site-packages/ipykernel_launcher.py:8: FutureWarning: Method .as_matrix will be removed in a future version. Use .values instead.\n",
      "  \n"
     ]
    }
   ],
   "source": [
    "def _load_data(data, n_prev = 30):  \n",
    "    \"\"\"\n",
    "    data should be pd.DataFrame()\n",
    "    \"\"\"\n",
    "    docX, docY = [], []\n",
    "    for i in range(len(data)-n_prev):\n",
    "        docX.append(data.iloc[i:i+n_prev].as_matrix())\n",
    "        docY.append(data.iloc[i+n_prev].as_matrix())\n",
    "    alsX = np.array(docX)\n",
    "    alsY = np.array(docY)\n",
    "    return alsX, alsY\n",
    "\n",
    "def train_test_split(df, test_size=0.1, n_prev = 30):  \n",
    "    \"\"\"\n",
    "    This just splits data to training and testing parts\n",
    "    \"\"\"\n",
    "    ntrn = round(len(df) * (1 - test_size))\n",
    "    ntrn = int(ntrn)\n",
    "    X_train, y_train = _load_data(df.iloc[0:ntrn], n_prev)\n",
    "    X_test, y_test = _load_data(df.iloc[ntrn:], n_prev)\n",
    "\n",
    "    return (X_train, y_train), (X_test, y_test)\n",
    "\n",
    "length_of_sequences = 10\n",
    "(X_train, y_train), (X_test, y_test) = train_test_split(df[[\"cnt\"]], n_prev =length_of_sequences)  "
   ]
  },
  {
   "cell_type": "markdown",
   "metadata": {},
   "source": [
    "## Training model"
   ]
  },
  {
   "cell_type": "code",
   "execution_count": 49,
   "metadata": {},
   "outputs": [
    {
     "name": "stdout",
     "output_type": "stream",
     "text": [
      "WARNING:tensorflow:The `nb_epoch` argument in `fit` has been renamed `epochs`.\n",
      "Train on 84 samples, validate on 5 samples\n",
      "Epoch 1/15\n",
      "84/84 [==============================] - 1s 12ms/sample - loss: 237236080.0000 - val_loss: 184502096.0000\n",
      "Epoch 2/15\n",
      "84/84 [==============================] - 0s 868us/sample - loss: 237213184.0000 - val_loss: 184489712.0000\n",
      "Epoch 3/15\n",
      "84/84 [==============================] - 0s 909us/sample - loss: 237196048.0000 - val_loss: 184476944.0000\n",
      "Epoch 4/15\n",
      "84/84 [==============================] - 0s 948us/sample - loss: 237180560.0000 - val_loss: 184454992.0000\n",
      "Epoch 5/15\n",
      "84/84 [==============================] - 0s 1ms/sample - loss: 237156256.0000 - val_loss: 184445744.0000\n",
      "Epoch 6/15\n",
      "84/84 [==============================] - 0s 1ms/sample - loss: 237143472.0000 - val_loss: 184425952.0000\n",
      "Epoch 7/15\n",
      "84/84 [==============================] - 0s 959us/sample - loss: 237121168.0000 - val_loss: 184412576.0000\n",
      "Epoch 8/15\n",
      "84/84 [==============================] - 0s 1ms/sample - loss: 237105392.0000 - val_loss: 184397264.0000\n",
      "Epoch 9/15\n",
      "84/84 [==============================] - 0s 923us/sample - loss: 237088160.0000 - val_loss: 184384000.0000\n",
      "Epoch 10/15\n",
      "84/84 [==============================] - 0s 959us/sample - loss: 237072976.0000 - val_loss: 184373488.0000\n",
      "Epoch 11/15\n",
      "84/84 [==============================] - 0s 975us/sample - loss: 237060608.0000 - val_loss: 184361760.0000\n",
      "Epoch 12/15\n",
      "84/84 [==============================] - 0s 1ms/sample - loss: 237047632.0000 - val_loss: 184349104.0000\n",
      "Epoch 13/15\n",
      "84/84 [==============================] - 0s 1ms/sample - loss: 237034016.0000 - val_loss: 184340656.0000\n",
      "Epoch 14/15\n",
      "84/84 [==============================] - 0s 1ms/sample - loss: 237024720.0000 - val_loss: 184334176.0000\n",
      "Epoch 15/15\n",
      "84/84 [==============================] - 0s 1ms/sample - loss: 237017424.0000 - val_loss: 184327840.0000\n"
     ]
    },
    {
     "data": {
      "text/plain": [
       "<tensorflow.python.keras.callbacks.History at 0xb34b7f748>"
      ]
     },
     "execution_count": 49,
     "metadata": {},
     "output_type": "execute_result"
    }
   ],
   "source": [
    "\n",
    "from tensorflow.keras.models import Sequential  \n",
    "from tensorflow.keras.layers import Dense, Activation, LSTM\n",
    "\n",
    "\n",
    "in_out_neurons = 1\n",
    "hidden_neurons = 300\n",
    "\n",
    "model = Sequential()  \n",
    "model.add(LSTM(hidden_neurons, batch_input_shape=(None, length_of_sequences, in_out_neurons), return_sequences=False))  \n",
    "model.add(Dense(in_out_neurons))  \n",
    "model.add(Activation(\"linear\"))  \n",
    "model.compile(loss=\"mean_squared_error\", optimizer=\"rmsprop\")\n",
    "model.fit(X_train, y_train, batch_size=600, nb_epoch=15, validation_split=0.05) "
   ]
  },
  {
   "cell_type": "code",
   "execution_count": 52,
   "metadata": {},
   "outputs": [
    {
     "data": {
      "text/plain": [
       "array([[9.8924]], dtype=float32)"
      ]
     },
     "execution_count": 52,
     "metadata": {},
     "output_type": "execute_result"
    }
   ],
   "source": [
    "predicted = model.predict(X_test) \n",
    "predicted"
   ]
  },
  {
   "cell_type": "markdown",
   "metadata": {},
   "source": [
    "# TODO\n",
    "We can improve dataset quality and do time-seris data analysis before building predition model.\n",
    "I just used `LSTM` trend prediction model  which I built before. But `ARIMA` is more suitable for this problem.\n",
    "https://machinelearningmastery.com/arima-for-time-series-forecasting-with-python/\n",
    "\n",
    "If we have enough data then we can do `cross-validation`, `grid search` to improve it also."
   ]
  },
  {
   "cell_type": "markdown",
   "metadata": {},
   "source": [
    "# Predict the session length for a given IP\n",
    "\n",
    "It is difficult to predict user behavior only by `IP`. If we can use `source_ip:source_port` then we can do it better.\n",
    "However, I will convert `IP` to `Location` as a feature to solve this problem with `session data` built from `session-analysis` project.\n"
   ]
  },
  {
   "cell_type": "code",
   "execution_count": 8,
   "metadata": {},
   "outputs": [
    {
     "data": {
      "text/html": [
       "<div>\n",
       "<style scoped>\n",
       "    .dataframe tbody tr th:only-of-type {\n",
       "        vertical-align: middle;\n",
       "    }\n",
       "\n",
       "    .dataframe tbody tr th {\n",
       "        vertical-align: top;\n",
       "    }\n",
       "\n",
       "    .dataframe thead th {\n",
       "        text-align: right;\n",
       "    }\n",
       "</style>\n",
       "<table border=\"1\" class=\"dataframe\">\n",
       "  <thead>\n",
       "    <tr style=\"text-align: right;\">\n",
       "      <th></th>\n",
       "      <th>id</th>\n",
       "      <th>ip</th>\n",
       "      <th>transition</th>\n",
       "      <th>during</th>\n",
       "      <th>start</th>\n",
       "      <th>end</th>\n",
       "    </tr>\n",
       "  </thead>\n",
       "  <tbody>\n",
       "    <tr>\n",
       "      <th>0</th>\n",
       "      <td>123.63.35.222-1437523228000-1437523828000</td>\n",
       "      <td>123.63.35.222</td>\n",
       "      <td>1</td>\n",
       "      <td>600000</td>\n",
       "      <td>1437523228000</td>\n",
       "      <td>1437523828000</td>\n",
       "    </tr>\n",
       "    <tr>\n",
       "      <th>1</th>\n",
       "      <td>117.195.91.36-1437523228000-1437523828000</td>\n",
       "      <td>117.195.91.36</td>\n",
       "      <td>1</td>\n",
       "      <td>600000</td>\n",
       "      <td>1437523228000</td>\n",
       "      <td>1437523828000</td>\n",
       "    </tr>\n",
       "    <tr>\n",
       "      <th>2</th>\n",
       "      <td>117.218.201.217-1437523228000-1437523828000</td>\n",
       "      <td>117.218.201.217</td>\n",
       "      <td>2</td>\n",
       "      <td>600000</td>\n",
       "      <td>1437523228000</td>\n",
       "      <td>1437523828000</td>\n",
       "    </tr>\n",
       "    <tr>\n",
       "      <th>3</th>\n",
       "      <td>101.57.202.210-1437523228000-1437523828000</td>\n",
       "      <td>101.57.202.210</td>\n",
       "      <td>1</td>\n",
       "      <td>600000</td>\n",
       "      <td>1437523228000</td>\n",
       "      <td>1437523828000</td>\n",
       "    </tr>\n",
       "    <tr>\n",
       "      <th>4</th>\n",
       "      <td>182.72.66.70-1437523228000-1437523828000</td>\n",
       "      <td>182.72.66.70</td>\n",
       "      <td>2</td>\n",
       "      <td>600000</td>\n",
       "      <td>1437523228000</td>\n",
       "      <td>1437523828000</td>\n",
       "    </tr>\n",
       "  </tbody>\n",
       "</table>\n",
       "</div>"
      ],
      "text/plain": [
       "                                            id               ip  transition  \\\n",
       "0    123.63.35.222-1437523228000-1437523828000    123.63.35.222           1   \n",
       "1    117.195.91.36-1437523228000-1437523828000    117.195.91.36           1   \n",
       "2  117.218.201.217-1437523228000-1437523828000  117.218.201.217           2   \n",
       "3   101.57.202.210-1437523228000-1437523828000   101.57.202.210           1   \n",
       "4     182.72.66.70-1437523228000-1437523828000     182.72.66.70           2   \n",
       "\n",
       "   during          start            end  \n",
       "0  600000  1437523228000  1437523828000  \n",
       "1  600000  1437523228000  1437523828000  \n",
       "2  600000  1437523228000  1437523828000  \n",
       "3  600000  1437523228000  1437523828000  \n",
       "4  600000  1437523228000  1437523828000  "
      ]
     },
     "execution_count": 8,
     "metadata": {},
     "output_type": "execute_result"
    }
   ],
   "source": [
    "import glob\n",
    "\n",
    "def read_session_df():\n",
    "    cols = [\"id\", \"ip\", \"transition\", \"during\", \"start\", \"end\"]\n",
    "    all_files = glob.glob(\"../../sessions\" + \"/*\")\n",
    "    li = []\n",
    "    for filename in all_files:\n",
    "        df = pd.read_csv(filename, names=cols, header=None)\n",
    "        li.append(df)\n",
    "    return pd.concat(li)\n",
    "df = read_session_df()\n",
    "df.head()"
   ]
  },
  {
   "cell_type": "markdown",
   "metadata": {},
   "source": [
    "Our goal is use `IP` to predict `transition`=URL visits and `during`= session length of session\n",
    "\n",
    "### Input\n",
    "Features: [IP]\n",
    "\n",
    "### Output\n",
    "transition or during\n"
   ]
  },
  {
   "cell_type": "markdown",
   "metadata": {},
   "source": [
    "Install `MaxMind` library to convert IP to location."
   ]
  },
  {
   "cell_type": "code",
   "execution_count": 65,
   "metadata": {},
   "outputs": [
    {
     "name": "stdout",
     "output_type": "stream",
     "text": [
      "Collecting maxminddb-geolite2\n",
      "\u001b[?25l  Downloading https://files.pythonhosted.org/packages/51/01/d12231a190659c269fec87a1144c9e243aadfccb0b18f7aca329661d9308/maxminddb-geolite2-2018.703.tar.gz (26.1MB)\n",
      "\u001b[K    100% |████████████████████████████████| 26.1MB 1.6MB/s ta 0:00:011\n",
      "\u001b[?25hCollecting maxminddb (from maxminddb-geolite2)\n",
      "\u001b[?25l  Downloading https://files.pythonhosted.org/packages/83/35/6dc423e0ff354c326849d6d878d104b44be7eec491dcf26787ab3593cd81/maxminddb-1.4.1.tar.gz (264kB)\n",
      "\u001b[K    100% |████████████████████████████████| 266kB 5.2MB/s ta 0:00:01\n",
      "\u001b[?25hBuilding wheels for collected packages: maxminddb-geolite2, maxminddb\n",
      "  Running setup.py bdist_wheel for maxminddb-geolite2 ... \u001b[?25ldone\n",
      "\u001b[?25h  Stored in directory: /Users/chintzu-lin/Library/Caches/pip/wheels/94/69/0a/4453d83e882e2c55aa8c8b5b37342e0b4acddb92e808fa9664\n",
      "  Running setup.py bdist_wheel for maxminddb ... \u001b[?25ldone\n",
      "\u001b[?25h  Stored in directory: /Users/chintzu-lin/Library/Caches/pip/wheels/58/60/71/9d07e2c0999b13b1f3ca3e2167a3436209e24d7f4ef6e8f919\n",
      "Successfully built maxminddb-geolite2 maxminddb\n",
      "Installing collected packages: maxminddb, maxminddb-geolite2\n",
      "Successfully installed maxminddb-1.4.1 maxminddb-geolite2-2018.703\n",
      "Requirement already satisfied: python-geoip in /Users/chintzu-lin/.local/lib/python3.7/site-packages (1.2)\n"
     ]
    }
   ],
   "source": [
    "! pip install maxminddb-geolite2 --user\n",
    "! pip install python-geoip --user"
   ]
  },
  {
   "cell_type": "code",
   "execution_count": 9,
   "metadata": {},
   "outputs": [
    {
     "name": "stdout",
     "output_type": "stream",
     "text": [
      "{'continent': {'code': 'AS', 'geoname_id': 6255147, 'names': {'de': 'Asien', 'en': 'Asia', 'es': 'Asia', 'fr': 'Asie', 'ja': 'アジア', 'pt-BR': 'Ásia', 'ru': 'Азия', 'zh-CN': '亚洲'}}, 'country': {'geoname_id': 1668284, 'iso_code': 'TW', 'names': {'de': 'Taiwan', 'en': 'Taiwan', 'es': 'Taiwán', 'fr': 'Taïwan', 'ja': '中華民国', 'pt-BR': 'Taiwan', 'ru': 'Тайвань', 'zh-CN': '台湾'}}, 'location': {'accuracy_radius': 200, 'latitude': 23.5, 'longitude': 121.0, 'time_zone': 'Asia/Taipei'}, 'registered_country': {'geoname_id': 1668284, 'iso_code': 'TW', 'names': {'de': 'Taiwan', 'en': 'Taiwan', 'es': 'Taiwán', 'fr': 'Taïwan', 'ja': '中華民国', 'pt-BR': 'Taiwan', 'ru': 'Тайвань', 'zh-CN': '台湾'}}}\n"
     ]
    }
   ],
   "source": [
    "from geolite2 import geolite2\n",
    "reader = geolite2.reader()\n",
    "print(reader.get('168.95.1.1'))"
   ]
  },
  {
   "cell_type": "code",
   "execution_count": 24,
   "metadata": {},
   "outputs": [],
   "source": [
    "def ip_to_location(ip):\n",
    "    location = reader.get(ip)\n",
    "    if location:\n",
    "        return location.get('registered_country', {'iso_code': 'unknown'})['iso_code']\n",
    "    else:\n",
    "        return 'unknown'\n",
    "\n",
    "\n",
    "df['loc'] = df.apply(lambda row: ip_to_location(row['ip']),axis=1)"
   ]
  },
  {
   "cell_type": "code",
   "execution_count": 32,
   "metadata": {},
   "outputs": [
    {
     "data": {
      "text/html": [
       "<div>\n",
       "<style scoped>\n",
       "    .dataframe tbody tr th:only-of-type {\n",
       "        vertical-align: middle;\n",
       "    }\n",
       "\n",
       "    .dataframe tbody tr th {\n",
       "        vertical-align: top;\n",
       "    }\n",
       "\n",
       "    .dataframe thead th {\n",
       "        text-align: right;\n",
       "    }\n",
       "</style>\n",
       "<table border=\"1\" class=\"dataframe\">\n",
       "  <thead>\n",
       "    <tr style=\"text-align: right;\">\n",
       "      <th></th>\n",
       "      <th>transition</th>\n",
       "      <th>during</th>\n",
       "      <th>loc_AE</th>\n",
       "      <th>loc_AF</th>\n",
       "      <th>loc_AR</th>\n",
       "      <th>loc_AT</th>\n",
       "      <th>loc_AU</th>\n",
       "      <th>loc_AZ</th>\n",
       "      <th>loc_BD</th>\n",
       "      <th>loc_BE</th>\n",
       "      <th>...</th>\n",
       "      <th>loc_TW</th>\n",
       "      <th>loc_TZ</th>\n",
       "      <th>loc_UA</th>\n",
       "      <th>loc_UG</th>\n",
       "      <th>loc_US</th>\n",
       "      <th>loc_VN</th>\n",
       "      <th>loc_YE</th>\n",
       "      <th>loc_ZA</th>\n",
       "      <th>loc_ZM</th>\n",
       "      <th>loc_unknown</th>\n",
       "    </tr>\n",
       "  </thead>\n",
       "  <tbody>\n",
       "    <tr>\n",
       "      <th>0</th>\n",
       "      <td>1</td>\n",
       "      <td>600000</td>\n",
       "      <td>0</td>\n",
       "      <td>0</td>\n",
       "      <td>0</td>\n",
       "      <td>0</td>\n",
       "      <td>0</td>\n",
       "      <td>0</td>\n",
       "      <td>0</td>\n",
       "      <td>0</td>\n",
       "      <td>...</td>\n",
       "      <td>0</td>\n",
       "      <td>0</td>\n",
       "      <td>0</td>\n",
       "      <td>0</td>\n",
       "      <td>0</td>\n",
       "      <td>0</td>\n",
       "      <td>0</td>\n",
       "      <td>0</td>\n",
       "      <td>0</td>\n",
       "      <td>0</td>\n",
       "    </tr>\n",
       "    <tr>\n",
       "      <th>1</th>\n",
       "      <td>1</td>\n",
       "      <td>600000</td>\n",
       "      <td>0</td>\n",
       "      <td>0</td>\n",
       "      <td>0</td>\n",
       "      <td>0</td>\n",
       "      <td>0</td>\n",
       "      <td>0</td>\n",
       "      <td>0</td>\n",
       "      <td>0</td>\n",
       "      <td>...</td>\n",
       "      <td>0</td>\n",
       "      <td>0</td>\n",
       "      <td>0</td>\n",
       "      <td>0</td>\n",
       "      <td>0</td>\n",
       "      <td>0</td>\n",
       "      <td>0</td>\n",
       "      <td>0</td>\n",
       "      <td>0</td>\n",
       "      <td>0</td>\n",
       "    </tr>\n",
       "    <tr>\n",
       "      <th>2</th>\n",
       "      <td>2</td>\n",
       "      <td>600000</td>\n",
       "      <td>0</td>\n",
       "      <td>0</td>\n",
       "      <td>0</td>\n",
       "      <td>0</td>\n",
       "      <td>0</td>\n",
       "      <td>0</td>\n",
       "      <td>0</td>\n",
       "      <td>0</td>\n",
       "      <td>...</td>\n",
       "      <td>0</td>\n",
       "      <td>0</td>\n",
       "      <td>0</td>\n",
       "      <td>0</td>\n",
       "      <td>0</td>\n",
       "      <td>0</td>\n",
       "      <td>0</td>\n",
       "      <td>0</td>\n",
       "      <td>0</td>\n",
       "      <td>0</td>\n",
       "    </tr>\n",
       "    <tr>\n",
       "      <th>3</th>\n",
       "      <td>1</td>\n",
       "      <td>600000</td>\n",
       "      <td>0</td>\n",
       "      <td>0</td>\n",
       "      <td>0</td>\n",
       "      <td>0</td>\n",
       "      <td>0</td>\n",
       "      <td>0</td>\n",
       "      <td>0</td>\n",
       "      <td>0</td>\n",
       "      <td>...</td>\n",
       "      <td>0</td>\n",
       "      <td>0</td>\n",
       "      <td>0</td>\n",
       "      <td>0</td>\n",
       "      <td>0</td>\n",
       "      <td>0</td>\n",
       "      <td>0</td>\n",
       "      <td>0</td>\n",
       "      <td>0</td>\n",
       "      <td>0</td>\n",
       "    </tr>\n",
       "    <tr>\n",
       "      <th>4</th>\n",
       "      <td>2</td>\n",
       "      <td>600000</td>\n",
       "      <td>0</td>\n",
       "      <td>0</td>\n",
       "      <td>0</td>\n",
       "      <td>0</td>\n",
       "      <td>0</td>\n",
       "      <td>0</td>\n",
       "      <td>0</td>\n",
       "      <td>0</td>\n",
       "      <td>...</td>\n",
       "      <td>0</td>\n",
       "      <td>0</td>\n",
       "      <td>0</td>\n",
       "      <td>0</td>\n",
       "      <td>0</td>\n",
       "      <td>0</td>\n",
       "      <td>0</td>\n",
       "      <td>0</td>\n",
       "      <td>0</td>\n",
       "      <td>0</td>\n",
       "    </tr>\n",
       "  </tbody>\n",
       "</table>\n",
       "<p>5 rows × 84 columns</p>\n",
       "</div>"
      ],
      "text/plain": [
       "   transition  during  loc_AE  loc_AF  loc_AR  loc_AT  loc_AU  loc_AZ  loc_BD  \\\n",
       "0           1  600000       0       0       0       0       0       0       0   \n",
       "1           1  600000       0       0       0       0       0       0       0   \n",
       "2           2  600000       0       0       0       0       0       0       0   \n",
       "3           1  600000       0       0       0       0       0       0       0   \n",
       "4           2  600000       0       0       0       0       0       0       0   \n",
       "\n",
       "   loc_BE     ...       loc_TW  loc_TZ  loc_UA  loc_UG  loc_US  loc_VN  \\\n",
       "0       0     ...            0       0       0       0       0       0   \n",
       "1       0     ...            0       0       0       0       0       0   \n",
       "2       0     ...            0       0       0       0       0       0   \n",
       "3       0     ...            0       0       0       0       0       0   \n",
       "4       0     ...            0       0       0       0       0       0   \n",
       "\n",
       "   loc_YE  loc_ZA  loc_ZM  loc_unknown  \n",
       "0       0       0       0            0  \n",
       "1       0       0       0            0  \n",
       "2       0       0       0            0  \n",
       "3       0       0       0            0  \n",
       "4       0       0       0            0  \n",
       "\n",
       "[5 rows x 84 columns]"
      ]
     },
     "execution_count": 32,
     "metadata": {},
     "output_type": "execute_result"
    }
   ],
   "source": [
    "location_labels = ['IN', 'unknown', 'US', 'GB', 'AE', 'BD', 'SG', 'CA', 'AU', 'JP',\n",
    "       'DE', 'CN', 'DK', 'FR', 'HK', 'PK', 'KH', 'BE', 'SE', 'CH', 'NL',\n",
    "       'MY', 'NO', 'TH', 'BH', 'ZA', 'NP', 'AT', 'SD', 'QA', 'LK', 'OM',\n",
    "       'SA', 'IE', 'FI', 'ES', 'KE', 'EG', 'MX', 'DZ', 'UG', 'IR', 'RU',\n",
    "       'BT', 'BG', 'RO', 'VN', 'TR', 'NG', 'GH', 'BR', 'TW', 'ID', 'AR',\n",
    "       'CY', 'PH', 'IT', 'KR', 'TN', 'KW', 'TT', 'BJ', 'BW', 'UA', 'HU',\n",
    "       'NZ', 'LR', 'TZ', 'SI', 'AF', 'PE', 'AZ', 'ZM', 'GR', 'KG', 'LU',\n",
    "       'CZ', 'TD', 'PY', 'YE', 'PR', 'GT']\n",
    "\n",
    "# Build training data with location one-hot encoding\n",
    "df_train = pd.get_dummies(df, columns=['loc']).drop(['id', 'ip', 'start', 'end'], axis=1)\n",
    "df_train.head()"
   ]
  },
  {
   "cell_type": "markdown",
   "metadata": {},
   "source": [
    "Use the simplest model `Logist Regression` to build first predict model\n",
    "\n"
   ]
  },
  {
   "cell_type": "code",
   "execution_count": 36,
   "metadata": {},
   "outputs": [],
   "source": [
    "# Split training data and test data\n",
    "from sklearn.model_selection import train_test_split\n",
    "X_train, X_test, y_train, y_test = train_test_split(df_train.drop('transition',axis=1), \n",
    "                                                    df_train['during'], test_size=0.30, \n",
    "                                                    random_state=101)"
   ]
  },
  {
   "cell_type": "code",
   "execution_count": 38,
   "metadata": {},
   "outputs": [
    {
     "name": "stderr",
     "output_type": "stream",
     "text": [
      "/Users/chintzu-lin/anaconda3/lib/python3.7/site-packages/sklearn/linear_model/logistic.py:433: FutureWarning: Default solver will be changed to 'lbfgs' in 0.22. Specify a solver to silence this warning.\n",
      "  FutureWarning)\n",
      "/Users/chintzu-lin/anaconda3/lib/python3.7/site-packages/sklearn/linear_model/logistic.py:460: FutureWarning: Default multi_class will be changed to 'auto' in 0.22. Specify the multi_class option to silence this warning.\n",
      "  \"this warning.\", FutureWarning)\n"
     ]
    }
   ],
   "source": [
    "from sklearn.linear_model import LogisticRegression\n",
    "logmodel = LogisticRegression()\n",
    "logmodel.fit(X_train,y_train)\n",
    "predictions = logmodel.predict(X_test)"
   ]
  },
  {
   "cell_type": "markdown",
   "metadata": {},
   "source": [
    "# Evaluation\n",
    "\n",
    "The result of `predictions` is real bad, but there are several ways to improve it.\n",
    "\n",
    "* Add more features such as `source_port`, `visit time`, `vist url`\n",
    "* Add more data\n",
    "* Use better algorithm such as `SVM`\n",
    "* Hyperparameter tuning\n"
   ]
  },
  {
   "cell_type": "markdown",
   "metadata": {},
   "source": [
    "# Predict the number of unique URL visits by a given IP\n",
    "We can do it same as `Predict the session length`"
   ]
  },
  {
   "cell_type": "code",
   "execution_count": 54,
   "metadata": {},
   "outputs": [
    {
     "name": "stderr",
     "output_type": "stream",
     "text": [
      "/Users/chintzu-lin/anaconda3/lib/python3.7/site-packages/sklearn/linear_model/logistic.py:433: FutureWarning: Default solver will be changed to 'lbfgs' in 0.22. Specify a solver to silence this warning.\n",
      "  FutureWarning)\n",
      "/Users/chintzu-lin/anaconda3/lib/python3.7/site-packages/sklearn/linear_model/logistic.py:460: FutureWarning: Default multi_class will be changed to 'auto' in 0.22. Specify the multi_class option to silence this warning.\n",
      "  \"this warning.\", FutureWarning)\n"
     ]
    }
   ],
   "source": [
    "# Split training data and test data\n",
    "from sklearn.model_selection import train_test_split\n",
    "X_train, X_test, y_train, y_test = train_test_split(df_train.drop('during',axis=1), \n",
    "                                                    df_train['transition'], test_size=0.30, \n",
    "                                                    random_state=101)\n",
    "from sklearn.linear_model import LogisticRegression\n",
    "logmodel = LogisticRegression()\n",
    "logmodel.fit(X_train,y_train)\n",
    "predictions = logmodel.predict(X_test)"
   ]
  },
  {
   "cell_type": "code",
   "execution_count": 55,
   "metadata": {},
   "outputs": [
    {
     "data": {
      "text/plain": [
       "array([2, 3, 1, 1, 3, 3, 1, 3, 2, 1])"
      ]
     },
     "execution_count": 55,
     "metadata": {},
     "output_type": "execute_result"
    }
   ],
   "source": [
    "predictions[:10]"
   ]
  },
  {
   "cell_type": "code",
   "execution_count": null,
   "metadata": {},
   "outputs": [],
   "source": []
  }
 ],
 "metadata": {
  "kernelspec": {
   "display_name": "Python 3",
   "language": "python",
   "name": "python3"
  },
  "language_info": {
   "codemirror_mode": {
    "name": "ipython",
    "version": 3
   },
   "file_extension": ".py",
   "mimetype": "text/x-python",
   "name": "python",
   "nbconvert_exporter": "python",
   "pygments_lexer": "ipython3",
   "version": "3.7.1"
  }
 },
 "nbformat": 4,
 "nbformat_minor": 2
}
